{
 "cells": [
  {
   "cell_type": "code",
   "execution_count": 1,
   "metadata": {},
   "outputs": [],
   "source": [
    "import os"
   ]
  },
  {
   "cell_type": "code",
   "execution_count": 8,
   "metadata": {},
   "outputs": [],
   "source": [
    "# from google.colab import drive\n",
    "# drive.mount('/content/drive')\n",
    "\n",
    "apipath = r'H:\\\\My Drive\\\\config\\\\hbqa.txt'\n",
    "import configparser\n",
    "\n",
    "config = configparser.ConfigParser()\n",
    "config.read(apipath)\n",
    "\n",
    "secret_key = config['global']['OPENAI_KEY']\n",
    "datapath = config['global']['DATA_FOLDER']\n",
    "corpuspath = config['global']['CORPUS_FOLDER']\n",
    "corpus_sectionpath = config['global']['CORPUS_FOLDER_SECTIONS']\n",
    "PINECONE_API_KEY = config['global']['PINECONE_API_KEY']\n",
    "PINECONE_ENV = config['global']['PINECONE_ENV']\n",
    "CHATGPT_KEY = config['global']['CHATGPT_KEY']\n",
    " "
   ]
  },
  {
   "cell_type": "code",
   "execution_count": 10,
   "metadata": {},
   "outputs": [
    {
     "data": {
      "text/plain": [
       "('H:\\\\My Drive\\\\HBQA\\\\CorpusBooks\\\\MBBook-from-HTML\\\\',\n",
       " 'H:\\\\My Drive\\\\HBQA\\\\CorpusBooks\\\\MBBook-from-HTML-Chapters\\\\')"
      ]
     },
     "execution_count": 10,
     "metadata": {},
     "output_type": "execute_result"
    }
   ],
   "source": [
    "datapath, corpuspath,\n",
    "datapath+\"/\"+f\n",
    "os.listdir(datapath)\n",
    "corpus_sectionpath, corpuspath"
   ]
  },
  {
   "cell_type": "code",
   "execution_count": 14,
   "metadata": {},
   "outputs": [
    {
     "data": {
      "text/plain": [
       "1"
      ]
     },
     "execution_count": 14,
     "metadata": {},
     "output_type": "execute_result"
    }
   ],
   "source": [
    "len(txt)"
   ]
  },
  {
   "cell_type": "code",
   "execution_count": 16,
   "metadata": {},
   "outputs": [
    {
     "name": "stdout",
     "output_type": "stream",
     "text": [
      "Writing mahabharata_01.txt\n",
      "Writing mahabharata_02.txt\n",
      "Writing mahabharata_03.txt\n",
      "Writing mahabharata_04.txt\n",
      "Writing mahabharata_05.txt\n",
      "Writing mahabharata_06.txt\n",
      "Writing mahabharata_07.txt\n",
      "Writing mahabharata_08.txt\n",
      "Writing mahabharata_09.txt\n",
      "Writing mahabharata_10.txt\n",
      "Writing mahabharata_11.txt\n",
      "Writing mahabharata_12.txt\n",
      "Writing mahabharata_13.txt\n",
      "Writing mahabharata_14.txt\n",
      "Writing mahabharata_15.txt\n",
      "Writing mahabharata_16.txt\n",
      "Writing mahabharata_17.txt\n",
      "Writing mahabharata_18.txt\n"
     ]
    }
   ],
   "source": [
    "txt=[]\n",
    "filename=\"\"\n",
    "for f in os.listdir(corpus_sectionpath):\n",
    "    if filename!=f[:14]+\".txt\": #it is a different chapter.\n",
    "        #print (f, f[:14]+\".txt\")\n",
    "        if filename!=\"\":\n",
    "            print(\"Writing \"+filename)\n",
    "            with open(corpuspath+\"/\"+filename,\"w\") as fname1:\n",
    "                fname1.write(\"\\n\\n\".join(txt))\n",
    "                txt=[]\n",
    "\n",
    "        filename=f[:14]+'.txt'\n",
    "        with open(corpus_sectionpath+\"/\"+f,\"r\") as fname:\n",
    "            txt.append( \" \".join(fname.readlines()) )\n",
    "    else: #Section of same chapter\n",
    "        with open(corpus_sectionpath+\"/\"+f,\"r\") as fname:\n",
    "            txt.append( \" \".join(fname.readlines()) )\n",
    "\n",
    "with open(corpuspath+\"/\"+filename,\"w\") as fname1:\n",
    "                fname1.write(\"\\n\\n\".join(txt))"
   ]
  },
  {
   "cell_type": "code",
   "execution_count": null,
   "metadata": {},
   "outputs": [],
   "source": []
  }
 ],
 "metadata": {
  "kernelspec": {
   "display_name": "myenv",
   "language": "python",
   "name": "python3"
  },
  "language_info": {
   "codemirror_mode": {
    "name": "ipython",
    "version": 3
   },
   "file_extension": ".py",
   "mimetype": "text/x-python",
   "name": "python",
   "nbconvert_exporter": "python",
   "pygments_lexer": "ipython3",
   "version": "3.9.17"
  },
  "orig_nbformat": 4
 },
 "nbformat": 4,
 "nbformat_minor": 2
}
