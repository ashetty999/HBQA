{
  "cells": [
    {
      "cell_type": "markdown",
      "metadata": {
        "id": "s7Jk6PcR3_yN"
      },
      "source": [
        "# Load Configurations & Libraries\n",
        "Creating Vector Database"
      ]
    },
    {
      "cell_type": "code",
      "execution_count": null,
      "metadata": {
        "id": "jlRnBaNgs4K9"
      },
      "outputs": [],
      "source": [
        "# If we run this machine on GPU machine it will be faster."
      ]
    },
    {
      "cell_type": "code",
      "execution_count": 1,
      "metadata": {
        "colab": {
          "base_uri": "https://localhost:8080/"
        },
        "id": "CuBicwGl9ytc",
        "outputId": "5139f287-c08e-439f-cdc5-ab446b7bb654"
      },
      "outputs": [
        {
          "name": "stdout",
          "output_type": "stream",
          "text": [
            "Mounted at /content/drive\n"
          ]
        }
      ],
      "source": [
        "# from google.colab import drive\n",
        "# drive.mount('/content/drive')"
      ]
    },
    {
      "cell_type": "code",
      "execution_count": 1,
      "metadata": {
        "id": "xYSr9rKw4yf9"
      },
      "outputs": [],
      "source": [
        "import pandas as pd"
      ]
    },
    {
      "cell_type": "code",
      "execution_count": 108,
      "metadata": {
        "id": "FPYiiB05s4LB"
      },
      "outputs": [],
      "source": [
        "apipath = r'/content/drive/MyDrive/config/hbqa-colab.txt'\n",
        "apipath = r'H:\\\\My Drive\\\\config\\\\hbqa.txt'\n",
        "import configparser\n",
        "\n",
        "config = configparser.ConfigParser()\n",
        "config.read(apipath)\n",
        "\n",
        "datapath = config['global']['DATA_FOLDER']\n",
        "corpuspath = config['global']['CORPUS_FOLDER']\n",
        "corpus_sectionpath = config['global']['CORPUS_FOLDER_SECTIONS']\n",
        "OPENAI_KEY = config['global']['OPENAI_KEY']\n",
        "PINECONE_KEY = config['global']['PINECONE_KEY']\n",
        "PINECONE_ENV = config['global']['PINECONE_ENV']\n",
        "CHATPDF_KEY = config['global']['CHATPDF_KEY']\n",
        "\n",
        "\n",
        "# PINECONE is Vector Database. To store the vector so that we can quickly search the vector space.\n",
        "# https://app.pinecone.io\n",
        "# get PINECONE_API_KEY key from app.pinecone.io\n",
        "# find your PINECONE_ENVIRONMENT next to the api key in pinecone console"
      ]
    },
    {
      "cell_type": "markdown",
      "metadata": {
        "id": "jtYZ-U7UakfV"
      },
      "source": [
        "### Load Embedding Model. It will create 384 dim vector for the sentences."
      ]
    },
    {
      "cell_type": "code",
      "execution_count": null,
      "metadata": {
        "colab": {
          "base_uri": "https://localhost:8080/"
        },
        "id": "-_AzjoAR3YTq",
        "outputId": "5fd5f3c0-612b-4eca-cc84-147a459054e4"
      },
      "outputs": [],
      "source": [
        "# !pip install -Uq sentence-transformers"
      ]
    },
    {
      "cell_type": "code",
      "execution_count": null,
      "metadata": {},
      "outputs": [],
      "source": [
        "# https://www.sbert.net/docs/pretrained_models.html\n",
        "\n",
        "#420MB, all-mpnet-base-v2, Base Model:\thttps://huggingface.co/microsoft/mpnet-base, Max Sequence Length:\t384, Dimensions:\t768, Normalized Embeddings:\ttrue\n",
        "#80MB, all-MiniLM-L6-v2, Base Model:\thttps://huggingface.co/nreimers/MiniLM-L6-H384-uncased Max Sequence Length:\t256, Dimensions:\t384, Normalized Embeddings:\ttrue\n",
        "#250MB, multi-qa-distilbert-cos-v1',  https://huggingface.co/distilbert-base, Max Sequence Length:\t512, Dimensions:768, Normalized Embeddings:\ttrue\n",
        "##1.36GB, all-roberta-large-v1, https://huggingface.co/microsoft/roberta-large,  Max Sequence Length:\t256, Dimensions: 1024, \n",
        "\n",
        "modelname = 'sentence-transformers/all-MiniLM-L6-v2'\n",
        "modelname = 'sentence-transformers/roberta-large'\n",
        "modelname = 'sentence-transformers/multi-qa-distilbert-cos-v1'\n",
        "\n"
      ]
    },
    {
      "cell_type": "code",
      "execution_count": 4,
      "metadata": {
        "id": "3s_aEBvr3dOX"
      },
      "outputs": [
        {
          "name": "stderr",
          "output_type": "stream",
          "text": [
            "c:\\Users\\hari_\\anaconda3\\envs\\hbqa\\lib\\site-packages\\tqdm\\auto.py:21: TqdmWarning: IProgress not found. Please update jupyter and ipywidgets. See https://ipywidgets.readthedocs.io/en/stable/user_install.html\n",
            "  from .autonotebook import tqdm as notebook_tqdm\n"
          ]
        }
      ],
      "source": [
        "from sentence_transformers import SentenceTransformer, util\n",
        "\n",
        "#util.dot_score, util.cos_sim\n",
        " \n",
        "embmodel = SentenceTransformer(modelname)"
      ]
    },
    {
      "cell_type": "markdown",
      "metadata": {
        "id": "otY4dg2Is4LC"
      },
      "source": [
        "# Creating Embedding for Chunks"
      ]
    },
    {
      "cell_type": "code",
      "execution_count": 11,
      "metadata": {},
      "outputs": [
        {
          "name": "stdout",
          "output_type": "stream",
          "text": [
            "(1697, 9)\n",
            "(537, 9)\n"
          ]
        }
      ],
      "source": [
        "FileToProcess = '04.2-Chunk_with_Prompts+ChatGPT_Response.csv' #This is based on Chapter 3 & 4.\n",
        "df_hbqa_chunk= pd.read_csv(datapath+FileToProcess) #This CSV is created from google drive file. It has Chunk info.\n",
        "\n",
        "print(df_hbqa_chunk.shape)\n",
        "df_hbqa_chunk = df_hbqa_chunk.loc[df_hbqa_chunk['ChatGPT_Response'].notna(),:]\n",
        "print(df_hbqa_chunk.shape)"
      ]
    },
    {
      "cell_type": "code",
      "execution_count": 9,
      "metadata": {},
      "outputs": [
        {
          "data": {
            "text/html": [
              "<div>\n",
              "<style scoped>\n",
              "    .dataframe tbody tr th:only-of-type {\n",
              "        vertical-align: middle;\n",
              "    }\n",
              "\n",
              "    .dataframe tbody tr th {\n",
              "        vertical-align: top;\n",
              "    }\n",
              "\n",
              "    .dataframe thead th {\n",
              "        text-align: right;\n",
              "    }\n",
              "</style>\n",
              "<table border=\"1\" class=\"dataframe\">\n",
              "  <thead>\n",
              "    <tr style=\"text-align: right;\">\n",
              "      <th></th>\n",
              "      <th>Section_Id</th>\n",
              "      <th>Chunk_Id</th>\n",
              "      <th>Chunk_Letters</th>\n",
              "      <th>Chunk_Words</th>\n",
              "      <th>Chunk_Approx_Tokens</th>\n",
              "      <th>Chunk</th>\n",
              "      <th>Prompt</th>\n",
              "      <th>ChatGPT_Response</th>\n",
              "      <th>1106</th>\n",
              "    </tr>\n",
              "  </thead>\n",
              "  <tbody>\n",
              "    <tr>\n",
              "      <th>222</th>\n",
              "      <td>Book03_002</td>\n",
              "      <td>389</td>\n",
              "      <td>4793</td>\n",
              "      <td>808</td>\n",
              "      <td>1075</td>\n",
              "      <td>Even this is eternal morality. They that perfo...</td>\n",
              "      <td>Write 5 unique questions, corresponding answer...</td>\n",
              "      <td>Question 1: What is the significance of perfor...</td>\n",
              "      <td>5.0</td>\n",
              "    </tr>\n",
              "    <tr>\n",
              "      <th>223</th>\n",
              "      <td>Book03_003</td>\n",
              "      <td>390</td>\n",
              "      <td>5453</td>\n",
              "      <td>851</td>\n",
              "      <td>1132</td>\n",
              "      <td>Section III\\n\"Vaisampayana said, 'Yudhishthira...</td>\n",
              "      <td>Write 6 unique questions, corresponding answer...</td>\n",
              "      <td>Question 1: What predicament does Yudhishthira...</td>\n",
              "      <td>6.0</td>\n",
              "    </tr>\n",
              "    <tr>\n",
              "      <th>224</th>\n",
              "      <td>Book03_004</td>\n",
              "      <td>392</td>\n",
              "      <td>4383</td>\n",
              "      <td>775</td>\n",
              "      <td>1031</td>\n",
              "      <td>Section IV\\n\"Vaisampayana said,--\"After the Pa...</td>\n",
              "      <td>Write 5 unique questions, corresponding answer...</td>\n",
              "      <td>Question 1: What was the primary concern expre...</td>\n",
              "      <td>5.0</td>\n",
              "    </tr>\n",
              "    <tr>\n",
              "      <th>225</th>\n",
              "      <td>Book03_005</td>\n",
              "      <td>393</td>\n",
              "      <td>4183</td>\n",
              "      <td>717</td>\n",
              "      <td>954</td>\n",
              "      <td>Section V\\n\"Vaisampayana said, 'Desirous of li...</td>\n",
              "      <td>Write 5 unique questions, corresponding answer...</td>\n",
              "      <td>Question 1: Where did the Pandavas go after le...</td>\n",
              "      <td>5.0</td>\n",
              "    </tr>\n",
              "    <tr>\n",
              "      <th>226</th>\n",
              "      <td>Book03_006</td>\n",
              "      <td>394</td>\n",
              "      <td>3765</td>\n",
              "      <td>625</td>\n",
              "      <td>831</td>\n",
              "      <td>Section VI\\n\"Vaisampayana said, 'O king, after...</td>\n",
              "      <td>Write 4 unique questions, corresponding answer...</td>\n",
              "      <td>Question 1: Why did Dhritarashtra feel remorse...</td>\n",
              "      <td>4.0</td>\n",
              "    </tr>\n",
              "    <tr>\n",
              "      <th>...</th>\n",
              "      <td>...</td>\n",
              "      <td>...</td>\n",
              "      <td>...</td>\n",
              "      <td>...</td>\n",
              "      <td>...</td>\n",
              "      <td>...</td>\n",
              "      <td>...</td>\n",
              "      <td>...</td>\n",
              "      <td>...</td>\n",
              "    </tr>\n",
              "    <tr>\n",
              "      <th>1692</th>\n",
              "      <td>Book14_052</td>\n",
              "      <td>2722</td>\n",
              "      <td>1666</td>\n",
              "      <td>271</td>\n",
              "      <td>360</td>\n",
              "      <td>When king Yudhishthira the just of Kuru's race...</td>\n",
              "      <td>Write 1 unique questions, corresponding answer...</td>\n",
              "      <td>1</td>\n",
              "      <td>NaN</td>\n",
              "    </tr>\n",
              "    <tr>\n",
              "      <th>1693</th>\n",
              "      <td>Book14_092</td>\n",
              "      <td>2767</td>\n",
              "      <td>1948</td>\n",
              "      <td>339</td>\n",
              "      <td>451</td>\n",
              "      <td>would do when seeing some injury done to him. ...</td>\n",
              "      <td>Write 1 unique questions, corresponding answer...</td>\n",
              "      <td>1</td>\n",
              "      <td>NaN</td>\n",
              "    </tr>\n",
              "    <tr>\n",
              "      <th>1694</th>\n",
              "      <td>Book15_012</td>\n",
              "      <td>2781</td>\n",
              "      <td>2146</td>\n",
              "      <td>369</td>\n",
              "      <td>491</td>\n",
              "      <td>Section XII\\n\"Arjuna said, 'O Bhima, thou art ...</td>\n",
              "      <td>Write 1 unique questions, corresponding answer...</td>\n",
              "      <td>1</td>\n",
              "      <td>NaN</td>\n",
              "    </tr>\n",
              "    <tr>\n",
              "      <th>1695</th>\n",
              "      <td>Book15_021</td>\n",
              "      <td>2790</td>\n",
              "      <td>2319</td>\n",
              "      <td>388</td>\n",
              "      <td>516</td>\n",
              "      <td>Section XXI\\n\" Vaisampayana said, 'Upon the re...</td>\n",
              "      <td>Write 1 unique questions, corresponding answer...</td>\n",
              "      <td>1</td>\n",
              "      <td>NaN</td>\n",
              "    </tr>\n",
              "    <tr>\n",
              "      <th>1696</th>\n",
              "      <td>Book18_002</td>\n",
              "      <td>2825</td>\n",
              "      <td>877</td>\n",
              "      <td>147</td>\n",
              "      <td>196</td>\n",
              "      <td>\"Overwhelmed by sorrow and grief, and with his...</td>\n",
              "      <td>Write 1 unique questions, corresponding answer...</td>\n",
              "      <td>1</td>\n",
              "      <td>NaN</td>\n",
              "    </tr>\n",
              "  </tbody>\n",
              "</table>\n",
              "<p>537 rows × 9 columns</p>\n",
              "</div>"
            ],
            "text/plain": [
              "      Section_Id  Chunk_Id  Chunk_Letters  Chunk_Words  Chunk_Approx_Tokens  \\\n",
              "222   Book03_002       389           4793          808                 1075   \n",
              "223   Book03_003       390           5453          851                 1132   \n",
              "224   Book03_004       392           4383          775                 1031   \n",
              "225   Book03_005       393           4183          717                  954   \n",
              "226   Book03_006       394           3765          625                  831   \n",
              "...          ...       ...            ...          ...                  ...   \n",
              "1692  Book14_052      2722           1666          271                  360   \n",
              "1693  Book14_092      2767           1948          339                  451   \n",
              "1694  Book15_012      2781           2146          369                  491   \n",
              "1695  Book15_021      2790           2319          388                  516   \n",
              "1696  Book18_002      2825            877          147                  196   \n",
              "\n",
              "                                                  Chunk  \\\n",
              "222   Even this is eternal morality. They that perfo...   \n",
              "223   Section III\\n\"Vaisampayana said, 'Yudhishthira...   \n",
              "224   Section IV\\n\"Vaisampayana said,--\"After the Pa...   \n",
              "225   Section V\\n\"Vaisampayana said, 'Desirous of li...   \n",
              "226   Section VI\\n\"Vaisampayana said, 'O king, after...   \n",
              "...                                                 ...   \n",
              "1692  When king Yudhishthira the just of Kuru's race...   \n",
              "1693  would do when seeing some injury done to him. ...   \n",
              "1694  Section XII\\n\"Arjuna said, 'O Bhima, thou art ...   \n",
              "1695  Section XXI\\n\" Vaisampayana said, 'Upon the re...   \n",
              "1696  \"Overwhelmed by sorrow and grief, and with his...   \n",
              "\n",
              "                                                 Prompt  \\\n",
              "222   Write 5 unique questions, corresponding answer...   \n",
              "223   Write 6 unique questions, corresponding answer...   \n",
              "224   Write 5 unique questions, corresponding answer...   \n",
              "225   Write 5 unique questions, corresponding answer...   \n",
              "226   Write 4 unique questions, corresponding answer...   \n",
              "...                                                 ...   \n",
              "1692  Write 1 unique questions, corresponding answer...   \n",
              "1693  Write 1 unique questions, corresponding answer...   \n",
              "1694  Write 1 unique questions, corresponding answer...   \n",
              "1695  Write 1 unique questions, corresponding answer...   \n",
              "1696  Write 1 unique questions, corresponding answer...   \n",
              "\n",
              "                                       ChatGPT_Response  1106  \n",
              "222   Question 1: What is the significance of perfor...   5.0  \n",
              "223   Question 1: What predicament does Yudhishthira...   6.0  \n",
              "224   Question 1: What was the primary concern expre...   5.0  \n",
              "225   Question 1: Where did the Pandavas go after le...   5.0  \n",
              "226   Question 1: Why did Dhritarashtra feel remorse...   4.0  \n",
              "...                                                 ...   ...  \n",
              "1692                                                  1   NaN  \n",
              "1693                                                  1   NaN  \n",
              "1694                                                  1   NaN  \n",
              "1695                                                  1   NaN  \n",
              "1696                                                  1   NaN  \n",
              "\n",
              "[537 rows x 9 columns]"
            ]
          },
          "execution_count": 9,
          "metadata": {},
          "output_type": "execute_result"
        }
      ],
      "source": [
        "df_hbqa_chunk.head(3)"
      ]
    },
    {
      "cell_type": "code",
      "execution_count": 29,
      "metadata": {},
      "outputs": [
        {
          "data": {
            "text/html": [
              "<div>\n",
              "<style scoped>\n",
              "    .dataframe tbody tr th:only-of-type {\n",
              "        vertical-align: middle;\n",
              "    }\n",
              "\n",
              "    .dataframe tbody tr th {\n",
              "        vertical-align: top;\n",
              "    }\n",
              "\n",
              "    .dataframe thead th {\n",
              "        text-align: right;\n",
              "    }\n",
              "</style>\n",
              "<table border=\"1\" class=\"dataframe\">\n",
              "  <thead>\n",
              "    <tr style=\"text-align: right;\">\n",
              "      <th></th>\n",
              "      <th>index</th>\n",
              "      <th>Section_Id</th>\n",
              "      <th>Chunk_Id</th>\n",
              "      <th>Chunk_Letters</th>\n",
              "      <th>Chunk_Words</th>\n",
              "      <th>Chunk_Approx_Tokens</th>\n",
              "      <th>Chunk</th>\n",
              "      <th>Prompt</th>\n",
              "      <th>ChatGPT_Response</th>\n",
              "      <th>ChunkVector</th>\n",
              "    </tr>\n",
              "  </thead>\n",
              "  <tbody>\n",
              "    <tr>\n",
              "      <th>534</th>\n",
              "      <td>1694</td>\n",
              "      <td>Book15_012</td>\n",
              "      <td>2781</td>\n",
              "      <td>2146</td>\n",
              "      <td>369</td>\n",
              "      <td>491</td>\n",
              "      <td>Section XII\\n\"Arjuna said, 'O Bhima, thou art ...</td>\n",
              "      <td>Write 1 unique questions, corresponding answer...</td>\n",
              "      <td>1</td>\n",
              "      <td>[-0.06720974296331406, 0.091431625187397, -0.0...</td>\n",
              "    </tr>\n",
              "    <tr>\n",
              "      <th>535</th>\n",
              "      <td>1695</td>\n",
              "      <td>Book15_021</td>\n",
              "      <td>2790</td>\n",
              "      <td>2319</td>\n",
              "      <td>388</td>\n",
              "      <td>516</td>\n",
              "      <td>Section XXI\\n\" Vaisampayana said, 'Upon the re...</td>\n",
              "      <td>Write 1 unique questions, corresponding answer...</td>\n",
              "      <td>1</td>\n",
              "      <td>[0.0037896237336099148, 0.06728169322013855, -...</td>\n",
              "    </tr>\n",
              "    <tr>\n",
              "      <th>536</th>\n",
              "      <td>1696</td>\n",
              "      <td>Book18_002</td>\n",
              "      <td>2825</td>\n",
              "      <td>877</td>\n",
              "      <td>147</td>\n",
              "      <td>196</td>\n",
              "      <td>\"Overwhelmed by sorrow and grief, and with his...</td>\n",
              "      <td>Write 1 unique questions, corresponding answer...</td>\n",
              "      <td>1</td>\n",
              "      <td>[0.02505647949874401, 0.061731502413749695, 0....</td>\n",
              "    </tr>\n",
              "  </tbody>\n",
              "</table>\n",
              "</div>"
            ],
            "text/plain": [
              "     index  Section_Id  Chunk_Id  Chunk_Letters  Chunk_Words  \\\n",
              "534   1694  Book15_012      2781           2146          369   \n",
              "535   1695  Book15_021      2790           2319          388   \n",
              "536   1696  Book18_002      2825            877          147   \n",
              "\n",
              "     Chunk_Approx_Tokens                                              Chunk  \\\n",
              "534                  491  Section XII\\n\"Arjuna said, 'O Bhima, thou art ...   \n",
              "535                  516  Section XXI\\n\" Vaisampayana said, 'Upon the re...   \n",
              "536                  196  \"Overwhelmed by sorrow and grief, and with his...   \n",
              "\n",
              "                                                Prompt ChatGPT_Response  \\\n",
              "534  Write 1 unique questions, corresponding answer...                1   \n",
              "535  Write 1 unique questions, corresponding answer...                1   \n",
              "536  Write 1 unique questions, corresponding answer...                1   \n",
              "\n",
              "                                           ChunkVector  \n",
              "534  [-0.06720974296331406, 0.091431625187397, -0.0...  \n",
              "535  [0.0037896237336099148, 0.06728169322013855, -...  \n",
              "536  [0.02505647949874401, 0.061731502413749695, 0....  "
            ]
          },
          "execution_count": 29,
          "metadata": {},
          "output_type": "execute_result"
        }
      ],
      "source": [
        "df_hbqa_chunk.tail(3)"
      ]
    },
    {
      "cell_type": "code",
      "execution_count": null,
      "metadata": {},
      "outputs": [],
      "source": [
        "df_hbqa_chunk.drop(columns=['1106'], axis=1,inplace=True)"
      ]
    },
    {
      "cell_type": "code",
      "execution_count": 14,
      "metadata": {
        "id": "esX6Nygos4LG"
      },
      "outputs": [],
      "source": [
        "DEVICE='cuda'"
      ]
    },
    {
      "cell_type": "code",
      "execution_count": 12,
      "metadata": {
        "colab": {
          "base_uri": "https://localhost:8080/"
        },
        "id": "GCjQapzas4LG",
        "outputId": "1345ef6c-fbc0-4c7b-ba77-fa297dc11d34"
      },
      "outputs": [
        {
          "name": "stdout",
          "output_type": "stream",
          "text": [
            "CPU times: total: 0 ns\n",
            "Wall time: 0 ns\n"
          ]
        }
      ],
      "source": [
        "%time\n",
        "Chunk_Sentences = df_hbqa_chunk.Chunk.tolist()\n",
        "Chunk_Embeddings = embmodel.encode(Chunk_Sentences)"
      ]
    },
    {
      "cell_type": "code",
      "execution_count": 14,
      "metadata": {
        "id": "pMnIgWeks4LG"
      },
      "outputs": [],
      "source": [
        "import torch"
      ]
    },
    {
      "cell_type": "code",
      "execution_count": 16,
      "metadata": {
        "id": "5K5tQT5m3hwz"
      },
      "outputs": [],
      "source": [
        "ChunkVectors= torch.tensor(Chunk_Embeddings, dtype=torch.float)#.to(DEVICE)"
      ]
    },
    {
      "cell_type": "code",
      "execution_count": 17,
      "metadata": {
        "id": "IfFH7ppc3j5t"
      },
      "outputs": [],
      "source": [
        "# Flatten the tensors into 1D arrays\n",
        "ChunkVec_list = ChunkVectors.tolist()"
      ]
    },
    {
      "cell_type": "code",
      "execution_count": 18,
      "metadata": {
        "id": "IGAiE5y5s4LH"
      },
      "outputs": [],
      "source": [
        "df_hbqa_chunk['ChunkVector'] = ChunkVectors.tolist()"
      ]
    },
    {
      "cell_type": "code",
      "execution_count": 19,
      "metadata": {
        "id": "tVt0Wcz64cEv"
      },
      "outputs": [],
      "source": [
        "df_hbqa_chunk.reset_index(inplace=True)"
      ]
    },
    {
      "cell_type": "code",
      "execution_count": 26,
      "metadata": {},
      "outputs": [],
      "source": [
        "df_hbqa_chunk.to_csv(datapath + '07.1-HBQA_Chunk_Vector.csv')"
      ]
    },
    {
      "cell_type": "code",
      "execution_count": 27,
      "metadata": {
        "colab": {
          "base_uri": "https://localhost:8080/",
          "height": 196
        },
        "id": "xAfTRvFr3hRp",
        "outputId": "c313df80-2f8a-48bf-b37e-71eec32c65ff"
      },
      "outputs": [
        {
          "name": "stdout",
          "output_type": "stream",
          "text": [
            "(537, 10)\n"
          ]
        },
        {
          "data": {
            "text/html": [
              "<div>\n",
              "<style scoped>\n",
              "    .dataframe tbody tr th:only-of-type {\n",
              "        vertical-align: middle;\n",
              "    }\n",
              "\n",
              "    .dataframe tbody tr th {\n",
              "        vertical-align: top;\n",
              "    }\n",
              "\n",
              "    .dataframe thead th {\n",
              "        text-align: right;\n",
              "    }\n",
              "</style>\n",
              "<table border=\"1\" class=\"dataframe\">\n",
              "  <thead>\n",
              "    <tr style=\"text-align: right;\">\n",
              "      <th></th>\n",
              "      <th>index</th>\n",
              "      <th>Section_Id</th>\n",
              "      <th>Chunk_Id</th>\n",
              "      <th>Chunk_Letters</th>\n",
              "      <th>Chunk_Words</th>\n",
              "      <th>Chunk_Approx_Tokens</th>\n",
              "      <th>Chunk</th>\n",
              "      <th>Prompt</th>\n",
              "      <th>ChatGPT_Response</th>\n",
              "      <th>ChunkVector</th>\n",
              "    </tr>\n",
              "  </thead>\n",
              "  <tbody>\n",
              "    <tr>\n",
              "      <th>0</th>\n",
              "      <td>222</td>\n",
              "      <td>Book03_002</td>\n",
              "      <td>389</td>\n",
              "      <td>4793</td>\n",
              "      <td>808</td>\n",
              "      <td>1075</td>\n",
              "      <td>Even this is eternal morality. They that perfo...</td>\n",
              "      <td>Write 5 unique questions, corresponding answer...</td>\n",
              "      <td>Question 1: What is the significance of perfor...</td>\n",
              "      <td>[0.05641840770840645, 0.11018980294466019, -0....</td>\n",
              "    </tr>\n",
              "    <tr>\n",
              "      <th>1</th>\n",
              "      <td>223</td>\n",
              "      <td>Book03_003</td>\n",
              "      <td>390</td>\n",
              "      <td>5453</td>\n",
              "      <td>851</td>\n",
              "      <td>1132</td>\n",
              "      <td>Section III\\n\"Vaisampayana said, 'Yudhishthira...</td>\n",
              "      <td>Write 6 unique questions, corresponding answer...</td>\n",
              "      <td>Question 1: What predicament does Yudhishthira...</td>\n",
              "      <td>[-0.0034319579135626554, 0.08028457313776016, ...</td>\n",
              "    </tr>\n",
              "    <tr>\n",
              "      <th>2</th>\n",
              "      <td>224</td>\n",
              "      <td>Book03_004</td>\n",
              "      <td>392</td>\n",
              "      <td>4383</td>\n",
              "      <td>775</td>\n",
              "      <td>1031</td>\n",
              "      <td>Section IV\\n\"Vaisampayana said,--\"After the Pa...</td>\n",
              "      <td>Write 5 unique questions, corresponding answer...</td>\n",
              "      <td>Question 1: What was the primary concern expre...</td>\n",
              "      <td>[-0.015587225556373596, 0.07836046814918518, -...</td>\n",
              "    </tr>\n",
              "  </tbody>\n",
              "</table>\n",
              "</div>"
            ],
            "text/plain": [
              "   index  Section_Id  Chunk_Id  Chunk_Letters  Chunk_Words  \\\n",
              "0    222  Book03_002       389           4793          808   \n",
              "1    223  Book03_003       390           5453          851   \n",
              "2    224  Book03_004       392           4383          775   \n",
              "\n",
              "   Chunk_Approx_Tokens                                              Chunk  \\\n",
              "0                 1075  Even this is eternal morality. They that perfo...   \n",
              "1                 1132  Section III\\n\"Vaisampayana said, 'Yudhishthira...   \n",
              "2                 1031  Section IV\\n\"Vaisampayana said,--\"After the Pa...   \n",
              "\n",
              "                                              Prompt  \\\n",
              "0  Write 5 unique questions, corresponding answer...   \n",
              "1  Write 6 unique questions, corresponding answer...   \n",
              "2  Write 5 unique questions, corresponding answer...   \n",
              "\n",
              "                                    ChatGPT_Response  \\\n",
              "0  Question 1: What is the significance of perfor...   \n",
              "1  Question 1: What predicament does Yudhishthira...   \n",
              "2  Question 1: What was the primary concern expre...   \n",
              "\n",
              "                                         ChunkVector  \n",
              "0  [0.05641840770840645, 0.11018980294466019, -0....  \n",
              "1  [-0.0034319579135626554, 0.08028457313776016, ...  \n",
              "2  [-0.015587225556373596, 0.07836046814918518, -...  "
            ]
          },
          "execution_count": 27,
          "metadata": {},
          "output_type": "execute_result"
        }
      ],
      "source": [
        "print(df_hbqa_chunk.shape)\n",
        "df_hbqa_chunk.head(3)"
      ]
    },
    {
      "cell_type": "markdown",
      "metadata": {
        "id": "EM8pKTMwbnOT"
      },
      "source": [
        "# Creat Embedding for Question & Answer\n"
      ]
    },
    {
      "cell_type": "code",
      "execution_count": 30,
      "metadata": {
        "id": "M8EIijXkbtRr"
      },
      "outputs": [],
      "source": [
        "# df_hbqa_auto_qa = pd.read_csv(datapath+\"06.1-HBQA_Auto_with_Chunk.csv\")\n",
        "df_hbqa_manual_qa = pd.read_csv(datapath+\"06-HBQA_Manual_with_Chunk.csv\")\n"
      ]
    },
    {
      "cell_type": "code",
      "execution_count": 59,
      "metadata": {
        "colab": {
          "base_uri": "https://localhost:8080/",
          "height": 182
        },
        "id": "9znjvsyfcsjf",
        "outputId": "83dd3b0a-3e8c-41b2-add4-bed98ac32756"
      },
      "outputs": [
        {
          "name": "stdout",
          "output_type": "stream",
          "text": [
            "(1102, 11)\n"
          ]
        },
        {
          "data": {
            "text/html": [
              "<div>\n",
              "<style scoped>\n",
              "    .dataframe tbody tr th:only-of-type {\n",
              "        vertical-align: middle;\n",
              "    }\n",
              "\n",
              "    .dataframe tbody tr th {\n",
              "        vertical-align: top;\n",
              "    }\n",
              "\n",
              "    .dataframe thead th {\n",
              "        text-align: right;\n",
              "    }\n",
              "</style>\n",
              "<table border=\"1\" class=\"dataframe\">\n",
              "  <thead>\n",
              "    <tr style=\"text-align: right;\">\n",
              "      <th></th>\n",
              "      <th>Ques_Id</th>\n",
              "      <th>Chunk_Id</th>\n",
              "      <th>Section_Id</th>\n",
              "      <th>Question</th>\n",
              "      <th>Ref_Answer</th>\n",
              "      <th>Chunk</th>\n",
              "      <th>Reference</th>\n",
              "      <th>WordsInQues</th>\n",
              "      <th>WordsInAns</th>\n",
              "      <th>WordsInRef</th>\n",
              "      <th>WordsInChunk</th>\n",
              "    </tr>\n",
              "  </thead>\n",
              "  <tbody>\n",
              "    <tr>\n",
              "      <th>0</th>\n",
              "      <td>0</td>\n",
              "      <td>389</td>\n",
              "      <td>Book03_002</td>\n",
              "      <td>What is the significance of performing the Agn...</td>\n",
              "      <td>Performing the Agnihotra is considered importa...</td>\n",
              "      <td>Even this is eternal morality. They that perfo...</td>\n",
              "      <td>The significance of the Agnihotra and the cons...</td>\n",
              "      <td>16</td>\n",
              "      <td>50</td>\n",
              "      <td>50</td>\n",
              "      <td>809</td>\n",
              "    </tr>\n",
              "    <tr>\n",
              "      <th>1</th>\n",
              "      <td>1</td>\n",
              "      <td>390</td>\n",
              "      <td>Book03_003</td>\n",
              "      <td>What predicament does Yudhishthira face, and h...</td>\n",
              "      <td>Yudhishthira faces the predicament of being un...</td>\n",
              "      <td>Section III\\n\"Vaisampayana said, 'Yudhishthira...</td>\n",
              "      <td>Yudhishthira's predicament and his consultatio...</td>\n",
              "      <td>14</td>\n",
              "      <td>41</td>\n",
              "      <td>53</td>\n",
              "      <td>852</td>\n",
              "    </tr>\n",
              "  </tbody>\n",
              "</table>\n",
              "</div>"
            ],
            "text/plain": [
              "   Ques_Id  Chunk_Id  Section_Id  \\\n",
              "0        0       389  Book03_002   \n",
              "1        1       390  Book03_003   \n",
              "\n",
              "                                            Question  \\\n",
              "0  What is the significance of performing the Agn...   \n",
              "1  What predicament does Yudhishthira face, and h...   \n",
              "\n",
              "                                          Ref_Answer  \\\n",
              "0  Performing the Agnihotra is considered importa...   \n",
              "1  Yudhishthira faces the predicament of being un...   \n",
              "\n",
              "                                               Chunk  \\\n",
              "0  Even this is eternal morality. They that perfo...   \n",
              "1  Section III\\n\"Vaisampayana said, 'Yudhishthira...   \n",
              "\n",
              "                                           Reference  WordsInQues  WordsInAns  \\\n",
              "0  The significance of the Agnihotra and the cons...           16          50   \n",
              "1  Yudhishthira's predicament and his consultatio...           14          41   \n",
              "\n",
              "   WordsInRef  WordsInChunk  \n",
              "0          50           809  \n",
              "1          53           852  "
            ]
          },
          "execution_count": 59,
          "metadata": {},
          "output_type": "execute_result"
        }
      ],
      "source": [
        "print(df_hbqa_manual_qa.shape)\n",
        "df_hbqa_manual_qa.head(2)"
      ]
    },
    {
      "cell_type": "code",
      "execution_count": 18,
      "metadata": {
        "id": "ZaPkdqPqmpYq"
      },
      "outputs": [],
      "source": [
        "DEVICE='cuda'"
      ]
    },
    {
      "cell_type": "code",
      "execution_count": 87,
      "metadata": {},
      "outputs": [
        {
          "data": {
            "text/plain": [
              "1.696226044"
            ]
          },
          "execution_count": 87,
          "metadata": {},
          "output_type": "execute_result"
        }
      ],
      "source": [
        "1696226044/(1000000000)"
      ]
    },
    {
      "cell_type": "code",
      "execution_count": 74,
      "metadata": {},
      "outputs": [],
      "source": [
        "def get_time(func): \n",
        "    import time\n",
        "    def wrapper(df_hbqa_manual_qa, embmodel):\n",
        "        start_time = time.time()\n",
        "\n",
        "        result = func(df_hbqa_manual_qa, embmodel)\n",
        "        \n",
        "        end_time = time.time()\n",
        "        time_spent=end_time-start_time \n",
        "\n",
        "        print(f\"Time Taken to Process {time_spent}\")\n",
        "        return result\n",
        "    \n",
        "    return wrapper"
      ]
    },
    {
      "cell_type": "code",
      "execution_count": 82,
      "metadata": {
        "colab": {
          "base_uri": "https://localhost:8080/"
        },
        "id": "EV9uZj31mpYu",
        "outputId": "59911a37-7b82-4d10-b4f8-39f43c01e6c5"
      },
      "outputs": [],
      "source": [
        "@get_time\n",
        "def create_sent_vector(df_hbqa_manual_qa, embmodel):\n",
        "\n",
        "    Ques_Sentences = df_hbqa_manual_qa.Question.tolist()\n",
        "    Ques_Embeddings = embmodel.encode(Ques_Sentences)\n",
        "\n",
        "    Ans_Sentences = df_hbqa_manual_qa.Ref_Answer.tolist()\n",
        "    Ans_Embeddings = embmodel.encode(Ans_Sentences)\n",
        "\n",
        "    print (\"Quest Embedding: \", Ques_Embeddings.shape,\"Answer Embedding: \", Ans_Embeddings.shape)\n",
        "    # return (Ques_Embeddings, Ans_Embeddings)\n",
        "\n",
        "    return (Ques_Embeddings, Ans_Embeddings) "
      ]
    },
    {
      "cell_type": "code",
      "execution_count": 83,
      "metadata": {},
      "outputs": [
        {
          "name": "stdout",
          "output_type": "stream",
          "text": [
            "Quest Embedding:  (1102, 384) Answer Embedding:  (1102, 384)\n",
            "Time Taken to Process 64.9604754447937\n"
          ]
        }
      ],
      "source": [
        "Ques_Embeddings, Ans_Embeddings = create_sent_vector(df_hbqa_manual_qa, model)"
      ]
    },
    {
      "cell_type": "code",
      "execution_count": 20,
      "metadata": {
        "id": "y6Qm5Qv2mpYw"
      },
      "outputs": [],
      "source": [
        "import torch"
      ]
    },
    {
      "cell_type": "code",
      "execution_count": 99,
      "metadata": {
        "id": "deLjS5CVmpYy"
      },
      "outputs": [],
      "source": [
        "QuesVectors= torch.tensor(Ques_Embeddings, dtype=torch.float)#.to(DEVICE)\n",
        "AnsVectors= torch.tensor(Ans_Embeddings, dtype=torch.float)#.to(DEVICE)"
      ]
    },
    {
      "cell_type": "code",
      "execution_count": 101,
      "metadata": {
        "id": "mufw5VPVnOA6"
      },
      "outputs": [],
      "source": [
        "df_hbqa_Vector = df_hbqa_manual_qa.copy()"
      ]
    },
    {
      "cell_type": "code",
      "execution_count": 23,
      "metadata": {
        "id": "2VgwNw55n2oK"
      },
      "outputs": [],
      "source": [
        "# df_hbqa_Vector.drop(columns = ['WordsInQues','WordsInAns'], axis=1, inplace=True)"
      ]
    },
    {
      "cell_type": "code",
      "execution_count": 102,
      "metadata": {
        "id": "wNutpVLsoir6"
      },
      "outputs": [],
      "source": [
        "# Flatten the tensors into 1D arrays and save\n",
        "df_hbqa_Vector['QuesVector'] = QuesVectors.tolist()\n",
        "df_hbqa_Vector['AnsVector'] = AnsVectors.tolist()"
      ]
    },
    {
      "cell_type": "code",
      "execution_count": 103,
      "metadata": {
        "colab": {
          "base_uri": "https://localhost:8080/",
          "height": 216
        },
        "id": "PpA_ZOf6qF1d",
        "outputId": "0addd704-ab8b-4936-b256-83f381e9ef97"
      },
      "outputs": [
        {
          "data": {
            "text/html": [
              "<div>\n",
              "<style scoped>\n",
              "    .dataframe tbody tr th:only-of-type {\n",
              "        vertical-align: middle;\n",
              "    }\n",
              "\n",
              "    .dataframe tbody tr th {\n",
              "        vertical-align: top;\n",
              "    }\n",
              "\n",
              "    .dataframe thead th {\n",
              "        text-align: right;\n",
              "    }\n",
              "</style>\n",
              "<table border=\"1\" class=\"dataframe\">\n",
              "  <thead>\n",
              "    <tr style=\"text-align: right;\">\n",
              "      <th></th>\n",
              "      <th>Ques_Id</th>\n",
              "      <th>Chunk_Id</th>\n",
              "      <th>Section_Id</th>\n",
              "      <th>Question</th>\n",
              "      <th>Ref_Answer</th>\n",
              "      <th>Chunk</th>\n",
              "      <th>Reference</th>\n",
              "      <th>WordsInQues</th>\n",
              "      <th>WordsInAns</th>\n",
              "      <th>WordsInRef</th>\n",
              "      <th>WordsInChunk</th>\n",
              "      <th>QuesVector</th>\n",
              "      <th>AnsVector</th>\n",
              "    </tr>\n",
              "  </thead>\n",
              "  <tbody>\n",
              "    <tr>\n",
              "      <th>0</th>\n",
              "      <td>0</td>\n",
              "      <td>389</td>\n",
              "      <td>Book03_002</td>\n",
              "      <td>What is the significance of performing the Agn...</td>\n",
              "      <td>Performing the Agnihotra is considered importa...</td>\n",
              "      <td>Even this is eternal morality. They that perfo...</td>\n",
              "      <td>The significance of the Agnihotra and the cons...</td>\n",
              "      <td>16</td>\n",
              "      <td>50</td>\n",
              "      <td>50</td>\n",
              "      <td>809</td>\n",
              "      <td>[-0.05227454751729965, 0.10869505256414413, 0....</td>\n",
              "      <td>[-0.009906493127346039, 0.11283662170171738, -...</td>\n",
              "    </tr>\n",
              "    <tr>\n",
              "      <th>1</th>\n",
              "      <td>1</td>\n",
              "      <td>390</td>\n",
              "      <td>Book03_003</td>\n",
              "      <td>What predicament does Yudhishthira face, and h...</td>\n",
              "      <td>Yudhishthira faces the predicament of being un...</td>\n",
              "      <td>Section III\\n\"Vaisampayana said, 'Yudhishthira...</td>\n",
              "      <td>Yudhishthira's predicament and his consultatio...</td>\n",
              "      <td>14</td>\n",
              "      <td>41</td>\n",
              "      <td>53</td>\n",
              "      <td>852</td>\n",
              "      <td>[0.05215536057949066, 0.11097773164510727, 0.0...</td>\n",
              "      <td>[0.06067391857504845, 0.08465536683797836, -0....</td>\n",
              "    </tr>\n",
              "  </tbody>\n",
              "</table>\n",
              "</div>"
            ],
            "text/plain": [
              "   Ques_Id  Chunk_Id  Section_Id  \\\n",
              "0        0       389  Book03_002   \n",
              "1        1       390  Book03_003   \n",
              "\n",
              "                                            Question  \\\n",
              "0  What is the significance of performing the Agn...   \n",
              "1  What predicament does Yudhishthira face, and h...   \n",
              "\n",
              "                                          Ref_Answer  \\\n",
              "0  Performing the Agnihotra is considered importa...   \n",
              "1  Yudhishthira faces the predicament of being un...   \n",
              "\n",
              "                                               Chunk  \\\n",
              "0  Even this is eternal morality. They that perfo...   \n",
              "1  Section III\\n\"Vaisampayana said, 'Yudhishthira...   \n",
              "\n",
              "                                           Reference  WordsInQues  WordsInAns  \\\n",
              "0  The significance of the Agnihotra and the cons...           16          50   \n",
              "1  Yudhishthira's predicament and his consultatio...           14          41   \n",
              "\n",
              "   WordsInRef  WordsInChunk  \\\n",
              "0          50           809   \n",
              "1          53           852   \n",
              "\n",
              "                                          QuesVector  \\\n",
              "0  [-0.05227454751729965, 0.10869505256414413, 0....   \n",
              "1  [0.05215536057949066, 0.11097773164510727, 0.0...   \n",
              "\n",
              "                                           AnsVector  \n",
              "0  [-0.009906493127346039, 0.11283662170171738, -...  \n",
              "1  [0.06067391857504845, 0.08465536683797836, -0....  "
            ]
          },
          "execution_count": 103,
          "metadata": {},
          "output_type": "execute_result"
        }
      ],
      "source": [
        "df_hbqa_Vector.head(2)"
      ]
    },
    {
      "cell_type": "code",
      "execution_count": 104,
      "metadata": {
        "id": "rqf9Rm9rp77Z"
      },
      "outputs": [],
      "source": [
        "df_hbqa_Vector.to_csv(datapath + '07.2-HBQA_QA_Vector.csv')"
      ]
    },
    {
      "cell_type": "markdown",
      "metadata": {
        "id": "SIpY21LxPvdD"
      },
      "source": [
        "# Save Context/Chunk Vector into Pinecone Vector database"
      ]
    },
    {
      "cell_type": "code",
      "execution_count": 105,
      "metadata": {
        "id": "aFPBEh9gs4LH"
      },
      "outputs": [],
      "source": [
        "!pip install -Uq pinecone-client"
      ]
    },
    {
      "cell_type": "code",
      "execution_count": null,
      "metadata": {
        "id": "3dIzivyns4LI"
      },
      "outputs": [],
      "source": [
        "# import pinecone\n",
        "\n",
        "# pinecone.init(\n",
        "# \tapi_key='ddf2ef12-9108-4e80-b438-8f86a0b617c0',\n",
        "# \tenvironment='asia-southeast1-gcp-free'\n",
        "# )\n",
        "# index = pinecone.Index('HBQA')"
      ]
    },
    {
      "cell_type": "code",
      "execution_count": 109,
      "metadata": {
        "id": "kG29syv5s4LI"
      },
      "outputs": [],
      "source": [
        "import os\n",
        "import pinecone\n",
        "\n",
        "# # get api key from app.pinecone.io\n",
        "# PINECONE_API_KEY = os.environ.get('PINECONE_API_KEY') or 'PINECONE_API_KEY'\n",
        "# # find your environment next to the api key in pinecone console\n",
        "# PINECONE_ENV = os.environ.get('PINECONE_ENVIRONMENT') or 'PINECONE_ENVIRONMENT'\n",
        "\n",
        "pinecone.init(\n",
        "    api_key=PINECONE_KEY,\n",
        "    environment=PINECONE_ENV\n",
        ")\n",
        "\n",
        "# index_name = 'semantic-search-fast'\n",
        "index_name = \"hbqa\" #it must be in lower letters"
      ]
    },
    {
      "cell_type": "code",
      "execution_count": null,
      "metadata": {
        "id": "jArDqisDs4LI"
      },
      "outputs": [],
      "source": [
        "# !pip uninstall pinecone_datasets"
      ]
    },
    {
      "cell_type": "code",
      "execution_count": null,
      "metadata": {
        "id": "oU4SIaFEs4LJ"
      },
      "outputs": [],
      "source": [
        "# from pinecone_datasets import load_dataset\n",
        "\n",
        "# dataset = load_dataset('quora_all-MiniLM-L6-bm25')\n",
        "# # we drop sparse_values as they are not needed for this example\n",
        "# dataset.documents.drop(['metadata'], axis=1, inplace=True)\n",
        "# dataset.documents.rename(columns={'blob': 'metadata'}, inplace=True)\n",
        "# # we will use 80K rows of the dataset between rows 240K -> 320K\n",
        "# dataset.documents.drop(dataset.documents.index[320_000:], inplace=True)\n",
        "# dataset.documents.drop(dataset.documents.index[:240_000], inplace=True)\n",
        "# dataset.head()"
      ]
    },
    {
      "cell_type": "code",
      "execution_count": 110,
      "metadata": {
        "id": "zttAF4x9AN-D"
      },
      "outputs": [],
      "source": [
        "import ast\n",
        "import time"
      ]
    },
    {
      "cell_type": "code",
      "execution_count": null,
      "metadata": {},
      "outputs": [],
      "source": [
        "dimension=len(ast.literal_eval(df_hbqa_chunk['ChunkVector'][0])),"
      ]
    },
    {
      "cell_type": "code",
      "execution_count": null,
      "metadata": {
        "id": "JlJrP-fLs4LJ"
      },
      "outputs": [],
      "source": [
        "# only create index if it doesn't exist\n",
        "if index_name not in pinecone.list_indexes():\n",
        "\n",
        "    pinecone.create_index(\n",
        "        name=index_name,\n",
        "        dimension=len(df_hbqa_chunk['ChunkVector'][0]),\n",
        "        metric='cosine'\n",
        "    )\n",
        "    # wait a moment for the index to be fully initialized\n",
        "    time.sleep(1)"
      ]
    },
    {
      "cell_type": "code",
      "execution_count": 114,
      "metadata": {
        "id": "rmEXjqn8W3r8"
      },
      "outputs": [],
      "source": [
        "# now connect to the index\n",
        "index = pinecone.Index(index_name)"
      ]
    },
    {
      "cell_type": "code",
      "execution_count": 115,
      "metadata": {
        "id": "3ncCYp-tE7_e"
      },
      "outputs": [],
      "source": [
        "chunk_id = df_hbqa_chunk['Chunk_Id'].to_list()\n",
        "\n",
        "chunk_vector = [df_hbqa_chunk['ChunkVector'][i] for i in range(df_hbqa_chunk.shape[0])]"
      ]
    },
    {
      "cell_type": "code",
      "execution_count": 117,
      "metadata": {},
      "outputs": [
        {
          "data": {
            "text/plain": [
              "537"
            ]
          },
          "execution_count": 117,
          "metadata": {},
          "output_type": "execute_result"
        }
      ],
      "source": [
        "len(chunk_id)"
      ]
    },
    {
      "cell_type": "code",
      "execution_count": 116,
      "metadata": {
        "colab": {
          "base_uri": "https://localhost:8080/"
        },
        "id": "PMXO6X49EnhI",
        "outputId": "d319c914-24e6-4500-8a60-3f42d9d742e6"
      },
      "outputs": [
        {
          "name": "stdout",
          "output_type": "stream",
          "text": [
            "Processed  100  Vectors\n",
            "Processed  200  Vectors\n",
            "Processed  300  Vectors\n",
            "Processed  400  Vectors\n",
            "Processed  500  Vectors\n",
            "Processed  600  Vectors\n"
          ]
        }
      ],
      "source": [
        "import random\n",
        "import itertools\n",
        "\n",
        "def chunks(iterable, batch_size=100):\n",
        "    \"\"\"A helper function to break an iterable into chunks of size batch_size.\"\"\"\n",
        "    it = iter(iterable)\n",
        "    chunk = tuple(itertools.islice(it, batch_size))\n",
        "    while chunk:\n",
        "        yield chunk\n",
        "        chunk = tuple(itertools.islice(it, batch_size))\n",
        "\n",
        "# vector_dim = 128\n",
        "# vector_count = 10000\n",
        "\n",
        "# Example generator that generates many (id, vector) pairs\n",
        "# example_data_generator = map(lambda i: (f'id-{i}', [random.random() for _ in range(vector_dim)]), range(vector_count))\n",
        "data_generator = map(lambda i: ( 'id'+str(chunk_id[i]), chunk_vector[i]),  range(df_hbqa_chunk.shape[0]))\n",
        "\n",
        "# Upsert data with 100 vectors per upsert request\n",
        "i=1\n",
        "batchsize = 100\n",
        "for ids_vectors_chunk in chunks(data_generator, batch_size=batchsize):\n",
        "    index.upsert(vectors=ids_vectors_chunk)  # Assuming `index` defined elsewhere\n",
        "    print(\"Processed \",i*batchsize, \" Vectors\")\n",
        "    i+=1\n"
      ]
    },
    {
      "cell_type": "markdown",
      "metadata": {},
      "source": [
        "# Check whether a correct document can be retrived using a Question"
      ]
    },
    {
      "cell_type": "code",
      "execution_count": 124,
      "metadata": {},
      "outputs": [
        {
          "data": {
            "text/plain": [
              "index                                                                306\n",
              "Section_Id                                                    Book03_108\n",
              "Chunk_Id                                                             520\n",
              "Chunk_Letters                                                       4769\n",
              "Chunk_Words                                                          837\n",
              "Chunk_Approx_Tokens                                                 1113\n",
              "Chunk                  Section CVIII\\n\"Lomasa said, 'That same king, ...\n",
              "Prompt                 Write 6 unique questions, corresponding answer...\n",
              "ChatGPT_Response       Question 1: Why did King Bhagiratha go to the ...\n",
              "ChunkVector            [-0.07042250782251358, 0.1345033198595047, -0....\n",
              "Name: 84, dtype: object"
            ]
          },
          "execution_count": 124,
          "metadata": {},
          "output_type": "execute_result"
        }
      ],
      "source": [
        "from random import randint\n",
        "i = randint(0, df_hbqa_chunk.shape[0])\n",
        "df_hbqa_chunk.loc[i,:]"
      ]
    },
    {
      "cell_type": "code",
      "execution_count": 125,
      "metadata": {},
      "outputs": [],
      "source": [
        "# df_hbqa_chunk.loc[i,'ChatGPT_Response']"
      ]
    },
    {
      "cell_type": "code",
      "execution_count": 126,
      "metadata": {},
      "outputs": [
        {
          "name": "stdout",
          "output_type": "stream",
          "text": [
            " Why did King Bhagiratha go to the snowy Mountain (the Himalayas) and what did he seek there\n"
          ]
        },
        {
          "data": {
            "text/plain": [
              "{'matches': [{'id': 'id520', 'score': 0.580122828, 'values': []},\n",
              "             {'id': 'id399', 'score': 0.528384447, 'values': []},\n",
              "             {'id': 'id583', 'score': 0.520113409, 'values': []},\n",
              "             {'id': 'id432', 'score': 0.508092403, 'values': []},\n",
              "             {'id': 'id714', 'score': 0.506267667, 'values': []}],\n",
              " 'namespace': ''}"
            ]
          },
          "execution_count": 126,
          "metadata": {},
          "output_type": "execute_result"
        }
      ],
      "source": [
        "sep=\":\"\n",
        "query = df_hbqa_chunk.loc[i,'ChatGPT_Response'].split('?')[0].split(sep)[1]\n",
        "print(query)\n",
        "\n",
        "# create the query vector\n",
        "xq = model.encode(query).tolist()\n",
        "topk = 5\n",
        "# now query\n",
        "xc = index.query(xq, top_k=topk, include_metadata=True)\n",
        "xc"
      ]
    },
    {
      "cell_type": "code",
      "execution_count": 127,
      "metadata": {},
      "outputs": [
        {
          "name": "stdout",
          "output_type": "stream",
          "text": [
            "predicted chunkid  ['id520', 'id399', 'id583', 'id432', 'id714']  Actual Chunk Id: 520\n"
          ]
        }
      ],
      "source": [
        "predictedId=[]\n",
        "for predid in xc['matches']:\n",
        "  predictedId.append(predid['id'])\n",
        "\n",
        "print (\"predicted chunkid \", predictedId, \" Actual Chunk Id:\", df_hbqa_chunk.loc[i,'Chunk_Id'])"
      ]
    }
  ],
  "metadata": {
    "accelerator": "GPU",
    "colab": {
      "gpuType": "T4",
      "provenance": []
    },
    "kernelspec": {
      "display_name": "Python 3",
      "name": "python3"
    },
    "language_info": {
      "codemirror_mode": {
        "name": "ipython",
        "version": 3
      },
      "file_extension": ".py",
      "mimetype": "text/x-python",
      "name": "python",
      "nbconvert_exporter": "python",
      "pygments_lexer": "ipython3",
      "version": "3.9.17"
    }
  },
  "nbformat": 4,
  "nbformat_minor": 0
}
