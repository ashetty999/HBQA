{
  "cells": [
    {
      "cell_type": "markdown",
      "metadata": {
        "id": "s7Jk6PcR3_yN"
      },
      "source": [
        "# Creating Vector Database"
      ]
    },
    {
      "cell_type": "code",
      "execution_count": 1,
      "metadata": {
        "id": "xYSr9rKw4yf9"
      },
      "outputs": [],
      "source": [
        "import pandas as pd"
      ]
    },
    {
      "cell_type": "code",
      "execution_count": 2,
      "metadata": {},
      "outputs": [],
      "source": [
        "# from google.colab import drive\n",
        "# drive.mount('/content/drive')\n",
        "\n",
        "apipath = r'H:\\\\My Drive\\\\config\\\\hbqa.txt'\n",
        "import configparser\n",
        "\n",
        "config = configparser.ConfigParser()\n",
        "config.read(apipath)\n",
        "secret_key = config['global']['OPENAI_API_KEY']\n",
        "datapath = config['global']['DATA_FOLDER']\n",
        "corpuspath = config['global']['CORPUS_FOLDER']"
      ]
    },
    {
      "cell_type": "code",
      "execution_count": 7,
      "metadata": {},
      "outputs": [],
      "source": [
        "df_hbqa = pd.read_csv(datapath+\"06-MahabharatHBQA.csv\")\n",
        "df_chunk = pd.read_csv(datapath+\"03-Chunked_Book.csv\")\n"
      ]
    },
    {
      "cell_type": "code",
      "execution_count": 8,
      "metadata": {},
      "outputs": [
        {
          "data": {
            "text/html": [
              "<div>\n",
              "<style scoped>\n",
              "    .dataframe tbody tr th:only-of-type {\n",
              "        vertical-align: middle;\n",
              "    }\n",
              "\n",
              "    .dataframe tbody tr th {\n",
              "        vertical-align: top;\n",
              "    }\n",
              "\n",
              "    .dataframe thead th {\n",
              "        text-align: right;\n",
              "    }\n",
              "</style>\n",
              "<table border=\"1\" class=\"dataframe\">\n",
              "  <thead>\n",
              "    <tr style=\"text-align: right;\">\n",
              "      <th></th>\n",
              "      <th>Ques_Id</th>\n",
              "      <th>Section_Id</th>\n",
              "      <th>Chunk_Id</th>\n",
              "      <th>Question</th>\n",
              "      <th>Ref_Answer</th>\n",
              "      <th>WordsInQues</th>\n",
              "      <th>WordsInAns</th>\n",
              "    </tr>\n",
              "  </thead>\n",
              "  <tbody>\n",
              "    <tr>\n",
              "      <th>0</th>\n",
              "      <td>0</td>\n",
              "      <td>Book01_002</td>\n",
              "      <td>1</td>\n",
              "      <td>Who asked Sauti about his journey?</td>\n",
              "      <td>One of the Rishis beginning the conversation a...</td>\n",
              "      <td>6</td>\n",
              "      <td>12</td>\n",
              "    </tr>\n",
              "    <tr>\n",
              "      <th>1</th>\n",
              "      <td>1</td>\n",
              "      <td>Book01_002</td>\n",
              "      <td>1</td>\n",
              "      <td>What did the Rishis wish to hear from Sauti?</td>\n",
              "      <td>The Rishis wished to hear the wonderful narrat...</td>\n",
              "      <td>9</td>\n",
              "      <td>10</td>\n",
              "    </tr>\n",
              "    <tr>\n",
              "      <th>2</th>\n",
              "      <td>2</td>\n",
              "      <td>Book01_002</td>\n",
              "      <td>1</td>\n",
              "      <td>What did the Rishis ask Sauti to recite?</td>\n",
              "      <td>The Rishis asked Sauti to recite the sacred st...</td>\n",
              "      <td>8</td>\n",
              "      <td>32</td>\n",
              "    </tr>\n",
              "  </tbody>\n",
              "</table>\n",
              "</div>"
            ],
            "text/plain": [
              "   Ques_Id  Section_Id  Chunk_Id  \\\n",
              "0        0  Book01_002         1   \n",
              "1        1  Book01_002         1   \n",
              "2        2  Book01_002         1   \n",
              "\n",
              "                                       Question  \\\n",
              "0            Who asked Sauti about his journey?   \n",
              "1  What did the Rishis wish to hear from Sauti?   \n",
              "2      What did the Rishis ask Sauti to recite?   \n",
              "\n",
              "                                          Ref_Answer  WordsInQues  WordsInAns  \n",
              "0  One of the Rishis beginning the conversation a...            6          12  \n",
              "1  The Rishis wished to hear the wonderful narrat...            9          10  \n",
              "2  The Rishis asked Sauti to recite the sacred st...            8          32  "
            ]
          },
          "execution_count": 8,
          "metadata": {},
          "output_type": "execute_result"
        }
      ],
      "source": [
        "df_hbqa.head(3)"
      ]
    },
    {
      "cell_type": "code",
      "execution_count": 5,
      "metadata": {},
      "outputs": [
        {
          "data": {
            "text/html": [
              "<div>\n",
              "<style scoped>\n",
              "    .dataframe tbody tr th:only-of-type {\n",
              "        vertical-align: middle;\n",
              "    }\n",
              "\n",
              "    .dataframe tbody tr th {\n",
              "        vertical-align: top;\n",
              "    }\n",
              "\n",
              "    .dataframe thead th {\n",
              "        text-align: right;\n",
              "    }\n",
              "</style>\n",
              "<table border=\"1\" class=\"dataframe\">\n",
              "  <thead>\n",
              "    <tr style=\"text-align: right;\">\n",
              "      <th></th>\n",
              "      <th>Section_Id</th>\n",
              "      <th>Chunk_Id</th>\n",
              "      <th>Chunk</th>\n",
              "      <th>Chunk_Letters</th>\n",
              "      <th>Chunk_Words</th>\n",
              "      <th>Chunk_Approx_Tokens</th>\n",
              "    </tr>\n",
              "  </thead>\n",
              "  <tbody>\n",
              "    <tr>\n",
              "      <th>0</th>\n",
              "      <td>Book01_002</td>\n",
              "      <td>1</td>\n",
              "      <td>THE MAHABHARATA ADI PARVA Section I\\nOm! Havin...</td>\n",
              "      <td>7511</td>\n",
              "      <td>1214</td>\n",
              "      <td>1615.0</td>\n",
              "    </tr>\n",
              "    <tr>\n",
              "      <th>1</th>\n",
              "      <td>Book01_002</td>\n",
              "      <td>2</td>\n",
              "      <td>The Rishi Vyasa published this mass of knowled...</td>\n",
              "      <td>7551</td>\n",
              "      <td>1261</td>\n",
              "      <td>1677.0</td>\n",
              "    </tr>\n",
              "    <tr>\n",
              "      <th>2</th>\n",
              "      <td>Book01_002</td>\n",
              "      <td>3</td>\n",
              "      <td>Vyasa executed the compilation of the Bharata,...</td>\n",
              "      <td>6986</td>\n",
              "      <td>1162</td>\n",
              "      <td>1545.0</td>\n",
              "    </tr>\n",
              "    <tr>\n",
              "      <th>3</th>\n",
              "      <td>Book01_002</td>\n",
              "      <td>5</td>\n",
              "      <td>'When I heard that Yudhishthira had been follo...</td>\n",
              "      <td>10832</td>\n",
              "      <td>1949</td>\n",
              "      <td>2592.0</td>\n",
              "    </tr>\n",
              "    <tr>\n",
              "      <th>4</th>\n",
              "      <td>Book01_002</td>\n",
              "      <td>6</td>\n",
              "      <td>'Alas! Gandhari, destitute of children, grand-...</td>\n",
              "      <td>7755</td>\n",
              "      <td>1246</td>\n",
              "      <td>1657.0</td>\n",
              "    </tr>\n",
              "  </tbody>\n",
              "</table>\n",
              "</div>"
            ],
            "text/plain": [
              "   Section_Id  Chunk_Id                                              Chunk  \\\n",
              "0  Book01_002         1  THE MAHABHARATA ADI PARVA Section I\\nOm! Havin...   \n",
              "1  Book01_002         2  The Rishi Vyasa published this mass of knowled...   \n",
              "2  Book01_002         3  Vyasa executed the compilation of the Bharata,...   \n",
              "3  Book01_002         5  'When I heard that Yudhishthira had been follo...   \n",
              "4  Book01_002         6  'Alas! Gandhari, destitute of children, grand-...   \n",
              "\n",
              "   Chunk_Letters  Chunk_Words  Chunk_Approx_Tokens  \n",
              "0           7511         1214               1615.0  \n",
              "1           7551         1261               1677.0  \n",
              "2           6986         1162               1545.0  \n",
              "3          10832         1949               2592.0  \n",
              "4           7755         1246               1657.0  "
            ]
          },
          "execution_count": 5,
          "metadata": {},
          "output_type": "execute_result"
        }
      ],
      "source": [
        "df_chunk.head(5)"
      ]
    },
    {
      "cell_type": "code",
      "execution_count": null,
      "metadata": {
        "id": "-_AzjoAR3YTq"
      },
      "outputs": [],
      "source": [
        "# !pip install -U sentence-transformers"
      ]
    },
    {
      "cell_type": "code",
      "execution_count": 6,
      "metadata": {
        "id": "3s_aEBvr3dOX"
      },
      "outputs": [
        {
          "name": "stderr",
          "output_type": "stream",
          "text": [
            "c:\\Users\\hari_\\anaconda3\\envs\\hbqa\\lib\\site-packages\\tqdm\\auto.py:21: TqdmWarning: IProgress not found. Please update jupyter and ipywidgets. See https://ipywidgets.readthedocs.io/en/stable/user_install.html\n",
            "  from .autonotebook import tqdm as notebook_tqdm\n"
          ]
        }
      ],
      "source": [
        "from sentence_transformers import SentenceTransformer\n",
        "\n",
        "model = SentenceTransformer('sentence-transformers/all-MiniLM-L6-v2')"
      ]
    },
    {
      "cell_type": "code",
      "execution_count": 9,
      "metadata": {
        "id": "rMnAa3J_3frt"
      },
      "outputs": [
        {
          "name": "stdout",
          "output_type": "stream",
          "text": [
            "CPU times: total: 0 ns\n",
            "Wall time: 0 ns\n"
          ]
        }
      ],
      "source": [
        "%time\n",
        "#sentences = [\"This is an example sentence\", \"Each sentence is converted\"]\n",
        "\n",
        "ques_sentences = df_hbqa.Question.tolist()\n",
        "ques_embeddings = model.encode(ques_sentences)\n",
        "\n",
        "ans_sentences = df_hbqa.Ref_Answer.tolist()\n",
        "ans_embeddings = model.encode(ans_sentences)\n",
        "\n",
        "chunk_sentences = df_chunk.chunk.tolist()\n",
        "chunk_embeddings = model.encode(chunk_sentences)\n",
        "\n"
      ]
    },
    {
      "cell_type": "code",
      "execution_count": 11,
      "metadata": {},
      "outputs": [],
      "source": [
        "import torch"
      ]
    },
    {
      "cell_type": "code",
      "execution_count": 13,
      "metadata": {},
      "outputs": [],
      "source": [
        "DEVICE='cpu'"
      ]
    },
    {
      "cell_type": "code",
      "execution_count": 14,
      "metadata": {
        "id": "5K5tQT5m3hwz"
      },
      "outputs": [],
      "source": [
        "qe= torch.tensor(ques_embeddings, dtype=torch.float).to(DEVICE)\n",
        "ae= torch.tensor(ans_embeddings, dtype=torch.float).to(DEVICE)\n",
        "ce= torch.tensor(chunk_embeddings, dtype=torch.float).to(DEVICE)"
      ]
    },
    {
      "cell_type": "code",
      "execution_count": 15,
      "metadata": {
        "id": "IfFH7ppc3j5t"
      },
      "outputs": [],
      "source": [
        "# Flatten the tensors into 1D arrays\n",
        "qe_list = qe.tolist()\n",
        "ae_list = ae.tolist()\n",
        "ce_list = ce.tolist()"
      ]
    },
    {
      "cell_type": "code",
      "execution_count": 16,
      "metadata": {
        "id": "r62RwHn-3nIu"
      },
      "outputs": [],
      "source": [
        "df_CQAembed = pd.DataFrame({ \"ChunkVector\" : ce_list, \"QuestVector\": qe_list, \"AnsVector\": ae_list,})\n",
        "df_CQAembed.to_csv(datapath+\"07-Embedding_CQA.csv\")"
      ]
    },
    {
      "cell_type": "code",
      "execution_count": 17,
      "metadata": {
        "id": "xzuwfcm03p4h"
      },
      "outputs": [
        {
          "data": {
            "text/html": [
              "<div>\n",
              "<style scoped>\n",
              "    .dataframe tbody tr th:only-of-type {\n",
              "        vertical-align: middle;\n",
              "    }\n",
              "\n",
              "    .dataframe tbody tr th {\n",
              "        vertical-align: top;\n",
              "    }\n",
              "\n",
              "    .dataframe thead th {\n",
              "        text-align: right;\n",
              "    }\n",
              "</style>\n",
              "<table border=\"1\" class=\"dataframe\">\n",
              "  <thead>\n",
              "    <tr style=\"text-align: right;\">\n",
              "      <th></th>\n",
              "      <th>quest_embed</th>\n",
              "      <th>ans_embed</th>\n",
              "      <th>context_embed</th>\n",
              "    </tr>\n",
              "  </thead>\n",
              "  <tbody>\n",
              "    <tr>\n",
              "      <th>0</th>\n",
              "      <td>[-0.03560031205415726, 0.04083798825740814, -0...</td>\n",
              "      <td>[-0.058902308344841, 0.06546207517385483, -0.0...</td>\n",
              "      <td>[-0.03560031205415726, 0.04083798825740814, -0...</td>\n",
              "    </tr>\n",
              "    <tr>\n",
              "      <th>1</th>\n",
              "      <td>[-0.05214887112379074, 0.07548260688781738, -0...</td>\n",
              "      <td>[0.00867170188575983, 0.05012994632124901, -0....</td>\n",
              "      <td>[-0.05214887112379074, 0.07548260688781738, -0...</td>\n",
              "    </tr>\n",
              "    <tr>\n",
              "      <th>2</th>\n",
              "      <td>[-0.10114305466413498, 0.006543009541928768, -...</td>\n",
              "      <td>[-0.038608163595199585, 0.0747721791267395, -0...</td>\n",
              "      <td>[-0.10114305466413498, 0.006543009541928768, -...</td>\n",
              "    </tr>\n",
              "    <tr>\n",
              "      <th>3</th>\n",
              "      <td>[-0.0659937858581543, 0.015136297792196274, 0....</td>\n",
              "      <td>[-0.07434075325727463, -0.009906511753797531, ...</td>\n",
              "      <td>[-0.0659937858581543, 0.015136297792196274, 0....</td>\n",
              "    </tr>\n",
              "    <tr>\n",
              "      <th>4</th>\n",
              "      <td>[0.005312507972121239, 0.0136681804433465, -0....</td>\n",
              "      <td>[-0.02026970498263836, -0.00869344174861908, -...</td>\n",
              "      <td>[0.005312507972121239, 0.0136681804433465, -0....</td>\n",
              "    </tr>\n",
              "    <tr>\n",
              "      <th>...</th>\n",
              "      <td>...</td>\n",
              "      <td>...</td>\n",
              "      <td>...</td>\n",
              "    </tr>\n",
              "    <tr>\n",
              "      <th>1114</th>\n",
              "      <td>[-0.13002479076385498, 0.05591632053256035, 0....</td>\n",
              "      <td>[-0.11036577075719833, 0.08855369687080383, 0....</td>\n",
              "      <td>[-0.13002479076385498, 0.05591632053256035, 0....</td>\n",
              "    </tr>\n",
              "    <tr>\n",
              "      <th>1115</th>\n",
              "      <td>[0.008280224166810513, -0.0024108337238430977,...</td>\n",
              "      <td>[0.015167448669672012, 0.04057442396879196, 0....</td>\n",
              "      <td>[0.008280224166810513, -0.0024108337238430977,...</td>\n",
              "    </tr>\n",
              "    <tr>\n",
              "      <th>1116</th>\n",
              "      <td>[-0.00033917734981514513, 0.04992949590086937,...</td>\n",
              "      <td>[0.04992251843214035, 0.06294243782758713, -0....</td>\n",
              "      <td>[-0.00033917734981514513, 0.04992949590086937,...</td>\n",
              "    </tr>\n",
              "    <tr>\n",
              "      <th>1117</th>\n",
              "      <td>[0.015867557376623154, 0.026233725249767303, -...</td>\n",
              "      <td>[0.025380071252584457, 0.07433845847845078, -0...</td>\n",
              "      <td>[0.015867557376623154, 0.026233725249767303, -...</td>\n",
              "    </tr>\n",
              "    <tr>\n",
              "      <th>1118</th>\n",
              "      <td>[0.030552901327610016, 0.004809572361409664, -...</td>\n",
              "      <td>[0.0305439792573452, -0.046270959079265594, -0...</td>\n",
              "      <td>[0.030552901327610016, 0.004809572361409664, -...</td>\n",
              "    </tr>\n",
              "  </tbody>\n",
              "</table>\n",
              "<p>1119 rows × 3 columns</p>\n",
              "</div>"
            ],
            "text/plain": [
              "                                            quest_embed  \\\n",
              "0     [-0.03560031205415726, 0.04083798825740814, -0...   \n",
              "1     [-0.05214887112379074, 0.07548260688781738, -0...   \n",
              "2     [-0.10114305466413498, 0.006543009541928768, -...   \n",
              "3     [-0.0659937858581543, 0.015136297792196274, 0....   \n",
              "4     [0.005312507972121239, 0.0136681804433465, -0....   \n",
              "...                                                 ...   \n",
              "1114  [-0.13002479076385498, 0.05591632053256035, 0....   \n",
              "1115  [0.008280224166810513, -0.0024108337238430977,...   \n",
              "1116  [-0.00033917734981514513, 0.04992949590086937,...   \n",
              "1117  [0.015867557376623154, 0.026233725249767303, -...   \n",
              "1118  [0.030552901327610016, 0.004809572361409664, -...   \n",
              "\n",
              "                                              ans_embed  \\\n",
              "0     [-0.058902308344841, 0.06546207517385483, -0.0...   \n",
              "1     [0.00867170188575983, 0.05012994632124901, -0....   \n",
              "2     [-0.038608163595199585, 0.0747721791267395, -0...   \n",
              "3     [-0.07434075325727463, -0.009906511753797531, ...   \n",
              "4     [-0.02026970498263836, -0.00869344174861908, -...   \n",
              "...                                                 ...   \n",
              "1114  [-0.11036577075719833, 0.08855369687080383, 0....   \n",
              "1115  [0.015167448669672012, 0.04057442396879196, 0....   \n",
              "1116  [0.04992251843214035, 0.06294243782758713, -0....   \n",
              "1117  [0.025380071252584457, 0.07433845847845078, -0...   \n",
              "1118  [0.0305439792573452, -0.046270959079265594, -0...   \n",
              "\n",
              "                                          context_embed  \n",
              "0     [-0.03560031205415726, 0.04083798825740814, -0...  \n",
              "1     [-0.05214887112379074, 0.07548260688781738, -0...  \n",
              "2     [-0.10114305466413498, 0.006543009541928768, -...  \n",
              "3     [-0.0659937858581543, 0.015136297792196274, 0....  \n",
              "4     [0.005312507972121239, 0.0136681804433465, -0....  \n",
              "...                                                 ...  \n",
              "1114  [-0.13002479076385498, 0.05591632053256035, 0....  \n",
              "1115  [0.008280224166810513, -0.0024108337238430977,...  \n",
              "1116  [-0.00033917734981514513, 0.04992949590086937,...  \n",
              "1117  [0.015867557376623154, 0.026233725249767303, -...  \n",
              "1118  [0.030552901327610016, 0.004809572361409664, -...  \n",
              "\n",
              "[1119 rows x 3 columns]"
            ]
          },
          "execution_count": 17,
          "metadata": {},
          "output_type": "execute_result"
        }
      ],
      "source": [
        "df_CQAembed"
      ]
    },
    {
      "cell_type": "code",
      "execution_count": null,
      "metadata": {},
      "outputs": [],
      "source": [
        "!pip install pinecone-client"
      ]
    },
    {
      "cell_type": "code",
      "execution_count": null,
      "metadata": {},
      "outputs": [],
      "source": [
        "import pinecone      \n",
        "\n",
        "pinecone.init(      \n",
        "\tapi_key='ddf2ef12-9108-4e80-b438-8f86a0b617c0',      \n",
        "\tenvironment='asia-southeast1-gcp-free'      \n",
        ")      \n",
        "index = pinecone.Index('EXAMPLE_INDEX')"
      ]
    },
    {
      "cell_type": "code",
      "execution_count": 19,
      "metadata": {},
      "outputs": [],
      "source": [
        "import os\n",
        "import pinecone\n",
        "\n",
        "# get api key from app.pinecone.io\n",
        "PINECONE_API_KEY = os.environ.get('PINECONE_API_KEY') or 'PINECONE_API_KEY'\n",
        "# find your environment next to the api key in pinecone console\n",
        "PINECONE_ENV = os.environ.get('PINECONE_ENVIRONMENT') or 'PINECONE_ENVIRONMENT'\n",
        "\n",
        "pinecone.init(\n",
        "    api_key=PINECONE_API_KEY,\n",
        "    environment=PINECONE_ENV\n",
        ")"
      ]
    },
    {
      "cell_type": "code",
      "execution_count": 21,
      "metadata": {},
      "outputs": [],
      "source": [
        "index_name = 'semantic-search-fast'"
      ]
    },
    {
      "cell_type": "code",
      "execution_count": 29,
      "metadata": {},
      "outputs": [
        {
          "name": "stdout",
          "output_type": "stream",
          "text": [
            "^C\n"
          ]
        }
      ],
      "source": [
        "!pip uninstall pinecone_datasets"
      ]
    },
    {
      "cell_type": "code",
      "execution_count": 27,
      "metadata": {},
      "outputs": [
        {
          "ename": "ModuleNotFoundError",
          "evalue": "No module named 'pinecone_datasets'",
          "output_type": "error",
          "traceback": [
            "\u001b[1;31m---------------------------------------------------------------------------\u001b[0m",
            "\u001b[1;31mModuleNotFoundError\u001b[0m                       Traceback (most recent call last)",
            "Cell \u001b[1;32mIn[27], line 1\u001b[0m\n\u001b[1;32m----> 1\u001b[0m \u001b[39mfrom\u001b[39;00m \u001b[39mpinecone_datasets\u001b[39;00m \u001b[39mimport\u001b[39;00m load_dataset\n\u001b[0;32m      3\u001b[0m dataset \u001b[39m=\u001b[39m load_dataset(\u001b[39m'\u001b[39m\u001b[39mquora_all-MiniLM-L6-bm25\u001b[39m\u001b[39m'\u001b[39m)\n\u001b[0;32m      4\u001b[0m \u001b[39m# # we drop sparse_values as they are not needed for this example\u001b[39;00m\n\u001b[0;32m      5\u001b[0m \u001b[39m# dataset.documents.drop(['metadata'], axis=1, inplace=True)\u001b[39;00m\n\u001b[0;32m      6\u001b[0m \u001b[39m# dataset.documents.rename(columns={'blob': 'metadata'}, inplace=True)\u001b[39;00m\n\u001b[1;32m   (...)\u001b[0m\n\u001b[0;32m      9\u001b[0m \u001b[39m# dataset.documents.drop(dataset.documents.index[:240_000], inplace=True)\u001b[39;00m\n\u001b[0;32m     10\u001b[0m \u001b[39m# dataset.head()\u001b[39;00m\n",
            "\u001b[1;31mModuleNotFoundError\u001b[0m: No module named 'pinecone_datasets'"
          ]
        }
      ],
      "source": [
        "from pinecone_datasets import load_dataset\n",
        "\n",
        "dataset = load_dataset('quora_all-MiniLM-L6-bm25')\n",
        "# # we drop sparse_values as they are not needed for this example\n",
        "# dataset.documents.drop(['metadata'], axis=1, inplace=True)\n",
        "# dataset.documents.rename(columns={'blob': 'metadata'}, inplace=True)\n",
        "# # we will use 80K rows of the dataset between rows 240K -> 320K\n",
        "# dataset.documents.drop(dataset.documents.index[320_000:], inplace=True)\n",
        "# dataset.documents.drop(dataset.documents.index[:240_000], inplace=True)\n",
        "# dataset.head()"
      ]
    },
    {
      "cell_type": "code",
      "execution_count": null,
      "metadata": {},
      "outputs": [],
      "source": [
        "import time\n",
        "\n",
        "# only create index if it doesn't exist\n",
        "if index_name not in pinecone.list_indexes():\n",
        "    pinecone.create_index(\n",
        "        name=index_name,\n",
        "        dimension=len(dataset.documents.iloc[0]['values']),\n",
        "        metric='cosine'\n",
        "    )\n",
        "    # wait a moment for the index to be fully initialized\n",
        "    time.sleep(1)\n",
        "\n",
        "# now connect to the index\n",
        "index = pinecone.GRPCIndex(index_name)"
      ]
    }
  ],
  "metadata": {
    "colab": {
      "provenance": []
    },
    "kernelspec": {
      "display_name": "Python 3",
      "name": "python3"
    },
    "language_info": {
      "codemirror_mode": {
        "name": "ipython",
        "version": 3
      },
      "file_extension": ".py",
      "mimetype": "text/x-python",
      "name": "python",
      "nbconvert_exporter": "python",
      "pygments_lexer": "ipython3",
      "version": "3.9.17"
    }
  },
  "nbformat": 4,
  "nbformat_minor": 0
}
